{
 "cells": [
  {
   "cell_type": "code",
   "execution_count": 1,
   "metadata": {},
   "outputs": [
    {
     "name": "stdout",
     "output_type": "stream",
     "text": [
      "enter the nameakshitha\n"
     ]
    }
   ],
   "source": [
    "a= input(\"enter the name\")"
   ]
  },
  {
   "cell_type": "code",
   "execution_count": 5,
   "metadata": {},
   "outputs": [
    {
     "name": "stdout",
     "output_type": "stream",
     "text": [
      "enter a number1\n",
      "false\n"
     ]
    }
   ],
   "source": [
    "a=int(input(\"enter a number\"))\n",
    "if(a==2):\n",
    "    print(\"true\")\n",
    "else:\n",
    "        print(\"false\")"
   ]
  },
  {
   "cell_type": "code",
   "execution_count": 8,
   "metadata": {},
   "outputs": [
    {
     "name": "stdout",
     "output_type": "stream",
     "text": [
      "enter first number2\n",
      "enter second number4\n",
      "enter the operator*\n",
      "multiplication of a and b 8\n"
     ]
    }
   ],
   "source": [
    "a=int(input(\"enter first number\"))\n",
    "b=int(input(\"enter second number\"))\n",
    "c=input(\"enter the operator\")\n",
    "if c=='+':\n",
    "    print(\"addition of a and b\",a+b)\n",
    "elif c=='-':\n",
    "    print(\"subtraction of a and b\",a-b)\n",
    "elif c=='*':\n",
    "    print(\"multiplication of a and b\",a*b)\n",
    "else:\n",
    "    print(\"invalid\")\n"
   ]
  },
  {
   "cell_type": "code",
   "execution_count": 9,
   "metadata": {},
   "outputs": [
    {
     "name": "stdout",
     "output_type": "stream",
     "text": [
      "subtraction of 10 and 5 is 5\n"
     ]
    }
   ],
   "source": [
    "a=10\n",
    "b=5\n",
    "print(f\"subtraction of {a} and {b} is {a-b}\")"
   ]
  },
  {
   "cell_type": "code",
   "execution_count": null,
   "metadata": {
    "collapsed": true
   },
   "outputs": [],
   "source": []
  }
 ],
 "metadata": {
  "kernelspec": {
   "display_name": "Python 3",
   "language": "python",
   "name": "python3"
  },
  "language_info": {
   "codemirror_mode": {
    "name": "ipython",
    "version": 3
   },
   "file_extension": ".py",
   "mimetype": "text/x-python",
   "name": "python",
   "nbconvert_exporter": "python",
   "pygments_lexer": "ipython3",
   "version": "3.6.3"
  }
 },
 "nbformat": 4,
 "nbformat_minor": 2
}
